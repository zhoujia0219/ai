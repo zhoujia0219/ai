{
 "cells": [
  {
   "cell_type": "code",
   "execution_count": 1,
   "metadata": {},
   "outputs": [],
   "source": [
    "import numpy as np"
   ]
  },
  {
   "cell_type": "code",
   "execution_count": 2,
   "metadata": {},
   "outputs": [],
   "source": [
    "score = np.array([[80, 89, 86, 67, 79],\n",
    "[78, 97, 89, 67, 81],\n",
    "[90, 94, 78, 67, 74],\n",
    "[91, 91, 90, 67, 69],\n",
    "[76, 87, 75, 67, 86],\n",
    "[70, 79, 84, 67, 84],\n",
    "[94, 92, 93, 67, 64],\n",
    "[86, 85, 83, 67, 80]])"
   ]
  },
  {
   "cell_type": "code",
   "execution_count": 3,
   "metadata": {},
   "outputs": [
    {
     "data": {
      "text/plain": [
       "array([[80, 89, 86, 67, 79],\n",
       "       [78, 97, 89, 67, 81],\n",
       "       [90, 94, 78, 67, 74],\n",
       "       [91, 91, 90, 67, 69],\n",
       "       [76, 87, 75, 67, 86],\n",
       "       [70, 79, 84, 67, 84],\n",
       "       [94, 92, 93, 67, 64],\n",
       "       [86, 85, 83, 67, 80]])"
      ]
     },
     "execution_count": 3,
     "metadata": {},
     "output_type": "execute_result"
    }
   ],
   "source": [
    "score"
   ]
  },
  {
   "cell_type": "code",
   "execution_count": 4,
   "metadata": {},
   "outputs": [
    {
     "data": {
      "text/plain": [
       "numpy.ndarray"
      ]
     },
     "execution_count": 4,
     "metadata": {},
     "output_type": "execute_result"
    }
   ],
   "source": [
    "type(score)"
   ]
  },
  {
   "cell_type": "code",
   "execution_count": 5,
   "metadata": {},
   "outputs": [],
   "source": [
    "import random \n",
    "import time\n",
    "a = []\n",
    "for i in range(10000000):\n",
    "    a.append(random.random())"
   ]
  },
  {
   "cell_type": "code",
   "execution_count": 6,
   "metadata": {},
   "outputs": [
    {
     "data": {
      "text/plain": [
       "10000000"
      ]
     },
     "execution_count": 6,
     "metadata": {},
     "output_type": "execute_result"
    }
   ],
   "source": [
    "len(a)"
   ]
  },
  {
   "cell_type": "code",
   "execution_count": 7,
   "metadata": {},
   "outputs": [],
   "source": [
    "b = np.array(a)"
   ]
  },
  {
   "cell_type": "code",
   "execution_count": 8,
   "metadata": {},
   "outputs": [
    {
     "name": "stdout",
     "output_type": "stream",
     "text": [
      "0.1861424446105957 0.012345314025878906\n"
     ]
    }
   ],
   "source": [
    "t1 = time.time()\n",
    "sum_python = sum(a)\n",
    "t2 = time.time()\n",
    "\n",
    "t3 = time.time()\n",
    "sum_ndarray = np.sum(b)\n",
    "t4 = time.time()\n",
    "print(t2-t1, t4-t3)"
   ]
  },
  {
   "cell_type": "code",
   "execution_count": 9,
   "metadata": {},
   "outputs": [],
   "source": [
    "## ndarray的属性"
   ]
  },
  {
   "cell_type": "code",
   "execution_count": 10,
   "metadata": {},
   "outputs": [],
   "source": [
    "## ndarray的属性"
   ]
  },
  {
   "cell_type": "markdown",
   "metadata": {},
   "source": [
    "## ndarray的属性"
   ]
  },
  {
   "cell_type": "markdown",
   "metadata": {},
   "source": [
    "## 3.2.1 ndarray的属性"
   ]
  },
  {
   "cell_type": "code",
   "execution_count": 11,
   "metadata": {},
   "outputs": [
    {
     "data": {
      "text/plain": [
       "(8, 5)"
      ]
     },
     "execution_count": 11,
     "metadata": {},
     "output_type": "execute_result"
    }
   ],
   "source": [
    "score.shape"
   ]
  },
  {
   "cell_type": "code",
   "execution_count": 12,
   "metadata": {},
   "outputs": [
    {
     "data": {
      "text/plain": [
       "2"
      ]
     },
     "execution_count": 12,
     "metadata": {},
     "output_type": "execute_result"
    }
   ],
   "source": [
    "score.ndim"
   ]
  },
  {
   "cell_type": "code",
   "execution_count": 13,
   "metadata": {},
   "outputs": [
    {
     "data": {
      "text/plain": [
       "40"
      ]
     },
     "execution_count": 13,
     "metadata": {},
     "output_type": "execute_result"
    }
   ],
   "source": [
    "score.size"
   ]
  },
  {
   "cell_type": "code",
   "execution_count": 16,
   "metadata": {},
   "outputs": [
    {
     "data": {
      "text/plain": [
       "40"
      ]
     },
     "execution_count": 16,
     "metadata": {},
     "output_type": "execute_result"
    }
   ],
   "source": [
    "score.size"
   ]
  },
  {
   "cell_type": "code",
   "execution_count": 17,
   "metadata": {},
   "outputs": [
    {
     "data": {
      "text/plain": [
       "dtype('int64')"
      ]
     },
     "execution_count": 17,
     "metadata": {},
     "output_type": "execute_result"
    }
   ],
   "source": [
    "score.dtype"
   ]
  },
  {
   "cell_type": "code",
   "execution_count": 18,
   "metadata": {},
   "outputs": [
    {
     "data": {
      "text/plain": [
       "8"
      ]
     },
     "execution_count": 18,
     "metadata": {},
     "output_type": "execute_result"
    }
   ],
   "source": [
    "score.itemsize"
   ]
  },
  {
   "cell_type": "code",
   "execution_count": 19,
   "metadata": {},
   "outputs": [],
   "source": [
    "c = np.array([[2.3,4.5]], dtype = \"float32\")"
   ]
  },
  {
   "cell_type": "code",
   "execution_count": 20,
   "metadata": {},
   "outputs": [
    {
     "data": {
      "text/plain": [
       "dtype('float32')"
      ]
     },
     "execution_count": 20,
     "metadata": {},
     "output_type": "execute_result"
    }
   ],
   "source": [
    "c.dtype"
   ]
  },
  {
   "cell_type": "code",
   "execution_count": 21,
   "metadata": {},
   "outputs": [
    {
     "data": {
      "text/plain": [
       "array([[0, 0, 0, 0],\n",
       "       [0, 0, 0, 0],\n",
       "       [0, 0, 0, 0]], dtype=int32)"
      ]
     },
     "execution_count": 21,
     "metadata": {},
     "output_type": "execute_result"
    }
   ],
   "source": [
    "np.zeros((3,4),dtype=np.int32)"
   ]
  },
  {
   "cell_type": "code",
   "execution_count": 22,
   "metadata": {},
   "outputs": [
    {
     "data": {
      "text/plain": [
       "array([[1, 1, 1, 1, 1],\n",
       "       [1, 1, 1, 1, 1]], dtype=int32)"
      ]
     },
     "execution_count": 22,
     "metadata": {},
     "output_type": "execute_result"
    }
   ],
   "source": [
    "np.ones((2,5),dtype=np.int32)"
   ]
  },
  {
   "cell_type": "code",
   "execution_count": 23,
   "metadata": {},
   "outputs": [],
   "source": [
    "score1 = np.array(score)"
   ]
  },
  {
   "cell_type": "code",
   "execution_count": 24,
   "metadata": {},
   "outputs": [
    {
     "data": {
      "text/plain": [
       "array([[80, 89, 86, 67, 79],\n",
       "       [78, 97, 89, 67, 81],\n",
       "       [90, 94, 78, 67, 74],\n",
       "       [91, 91, 90, 67, 69],\n",
       "       [76, 87, 75, 67, 86],\n",
       "       [70, 79, 84, 67, 84],\n",
       "       [94, 92, 93, 67, 64],\n",
       "       [86, 85, 83, 67, 80]])"
      ]
     },
     "execution_count": 24,
     "metadata": {},
     "output_type": "execute_result"
    }
   ],
   "source": [
    "score1"
   ]
  },
  {
   "cell_type": "code",
   "execution_count": 26,
   "metadata": {},
   "outputs": [],
   "source": [
    "score2 = np.asarray(score)"
   ]
  },
  {
   "cell_type": "code",
   "execution_count": 27,
   "metadata": {},
   "outputs": [
    {
     "data": {
      "text/plain": [
       "array([[80, 89, 86, 67, 79],\n",
       "       [78, 97, 89, 67, 81],\n",
       "       [90, 94, 78, 67, 74],\n",
       "       [91, 91, 90, 67, 69],\n",
       "       [76, 87, 75, 67, 86],\n",
       "       [70, 79, 84, 67, 84],\n",
       "       [94, 92, 93, 67, 64],\n",
       "       [86, 85, 83, 67, 80]])"
      ]
     },
     "execution_count": 27,
     "metadata": {},
     "output_type": "execute_result"
    }
   ],
   "source": [
    "score2"
   ]
  },
  {
   "cell_type": "code",
   "execution_count": 28,
   "metadata": {},
   "outputs": [],
   "source": [
    "score3 = np.copy(score)"
   ]
  },
  {
   "cell_type": "code",
   "execution_count": 31,
   "metadata": {},
   "outputs": [
    {
     "data": {
      "text/plain": [
       "array([[80, 89, 86, 67, 79],\n",
       "       [78, 97, 89, 67, 81],\n",
       "       [90, 94, 78, 67, 74],\n",
       "       [91, 91, 90, 67, 69],\n",
       "       [76, 87, 75, 67, 86],\n",
       "       [70, 79, 84, 67, 84],\n",
       "       [94, 92, 93, 67, 64],\n",
       "       [86, 85, 83, 67, 80]])"
      ]
     },
     "execution_count": 31,
     "metadata": {},
     "output_type": "execute_result"
    }
   ],
   "source": [
    "score3"
   ]
  },
  {
   "cell_type": "code",
   "execution_count": 30,
   "metadata": {},
   "outputs": [],
   "source": [
    "score[3,4]=1000"
   ]
  },
  {
   "cell_type": "code",
   "execution_count": 32,
   "metadata": {},
   "outputs": [
    {
     "data": {
      "text/plain": [
       "array([[  80,   89,   86,   67,   79],\n",
       "       [  78,   97,   89,   67,   81],\n",
       "       [  90,   94,   78,   67,   74],\n",
       "       [  91,   91,   90,   67, 1000],\n",
       "       [  76,   87,   75,   67,   86],\n",
       "       [  70,   79,   84,   67,   84],\n",
       "       [  94,   92,   93,   67,   64],\n",
       "       [  86,   85,   83,   67,   80]])"
      ]
     },
     "execution_count": 32,
     "metadata": {},
     "output_type": "execute_result"
    }
   ],
   "source": [
    "score"
   ]
  },
  {
   "cell_type": "code",
   "execution_count": 33,
   "metadata": {},
   "outputs": [
    {
     "data": {
      "text/plain": [
       "array([[80, 89, 86, 67, 79],\n",
       "       [78, 97, 89, 67, 81],\n",
       "       [90, 94, 78, 67, 74],\n",
       "       [91, 91, 90, 67, 69],\n",
       "       [76, 87, 75, 67, 86],\n",
       "       [70, 79, 84, 67, 84],\n",
       "       [94, 92, 93, 67, 64],\n",
       "       [86, 85, 83, 67, 80]])"
      ]
     },
     "execution_count": 33,
     "metadata": {},
     "output_type": "execute_result"
    }
   ],
   "source": [
    "score1"
   ]
  },
  {
   "cell_type": "code",
   "execution_count": 34,
   "metadata": {},
   "outputs": [
    {
     "data": {
      "text/plain": [
       "array([[  80,   89,   86,   67,   79],\n",
       "       [  78,   97,   89,   67,   81],\n",
       "       [  90,   94,   78,   67,   74],\n",
       "       [  91,   91,   90,   67, 1000],\n",
       "       [  76,   87,   75,   67,   86],\n",
       "       [  70,   79,   84,   67,   84],\n",
       "       [  94,   92,   93,   67,   64],\n",
       "       [  86,   85,   83,   67,   80]])"
      ]
     },
     "execution_count": 34,
     "metadata": {},
     "output_type": "execute_result"
    }
   ],
   "source": [
    "score2"
   ]
  },
  {
   "cell_type": "code",
   "execution_count": 45,
   "metadata": {},
   "outputs": [],
   "source": [
    "x1 = np.random.uniform(-10,10,1000000)"
   ]
  },
  {
   "cell_type": "code",
   "execution_count": 46,
   "metadata": {},
   "outputs": [],
   "source": [
    "import matplotlib.pyplot as plt"
   ]
  },
  {
   "cell_type": "code",
   "execution_count": 47,
   "metadata": {},
   "outputs": [
    {
     "data": {
      "image/png": "[encoded data removed]",
      "text/plain": [
       "<Figure size 2000x800 with 1 Axes>"
      ]
     },
     "metadata": {},
     "output_type": "display_data"
    }
   ],
   "source": [
    "#1 创建画布\n",
    "plt.figure(figsize=(20,8),dpi=100)\n",
    "\n",
    "#2 绘制直方图\n",
    "plt.hist(x1,1000)\n",
    "\n",
    "#3 显示图像\n",
    "plt.show()"
   ]
  },
  {
   "cell_type": "code",
   "execution_count": 52,
   "metadata": {},
   "outputs": [],
   "source": [
    "# 正态分布\n",
    "x2 = np.random.normal(loc=1.75, scale=0.8, size=10000000)"
   ]
  },
  {
   "cell_type": "code",
   "execution_count": 54,
   "metadata": {},
   "outputs": [
    {
     "data": {
      "image/png": "[encoded data removed]",
      "text/plain": [
       "<Figure size 2000x800 with 1 Axes>"
      ]
     },
     "metadata": {},
     "output_type": "display_data"
    }
   ],
   "source": [
    "#1 创建画布\n",
    "plt.figure(figsize=(20,8),dpi=100)\n",
    "\n",
    "#2 绘制直方图\n",
    "plt.hist(x2,1000)\n",
    "\n",
    "#3 显示图像\n",
    "plt.show()"
   ]
  },
  {
   "cell_type": "code",
   "execution_count": 58,
   "metadata": {},
   "outputs": [],
   "source": [
    "stock_change = np.random.normal(0, 1, (8,10))"
   ]
  },
  {
   "cell_type": "code",
   "execution_count": 59,
   "metadata": {},
   "outputs": [
    {
     "data": {
      "text/plain": [
       "array([[-0.99662642, -0.90298088, -0.33469349,  2.44934076,  0.97259645,\n",
       "        -1.08088908,  0.36373828, -1.08224112, -1.43482084,  0.69280491],\n",
       "       [ 1.59853806,  1.223105  , -0.90509705,  0.1305972 , -0.17261788,\n",
       "        -1.8130418 ,  0.53364354,  0.48799666,  0.15094677,  0.04289803],\n",
       "       [-0.24762801,  1.72875853,  1.10924163, -0.19961977, -1.43940309,\n",
       "        -0.74791199, -1.41166937,  0.43227829,  1.49759424, -0.60987456],\n",
       "       [-0.87735741, -1.21818144,  1.09935965,  0.33903634,  0.98688705,\n",
       "        -0.03504245, -1.85356507,  0.81015999, -0.25365561,  1.45794163],\n",
       "       [-0.69007281, -1.45204079, -2.04152213,  2.32717979, -0.40241851,\n",
       "        -1.45294411,  0.14178907,  0.01520643,  1.35750925,  0.30244322],\n",
       "       [ 0.3993745 ,  1.50597491, -0.07651456, -0.47072758,  0.93820808,\n",
       "         1.36142059,  0.1464892 , -0.19810263,  1.21517022,  0.36163124],\n",
       "       [-0.65920345, -0.6088784 , -1.08521335, -0.52832698,  2.08413576,\n",
       "         2.91289759, -1.55985541,  1.45202395,  0.75504992,  1.14531301],\n",
       "       [-0.08811869,  0.23779835,  1.42378825, -1.21198998,  1.73184952,\n",
       "        -0.40881955,  1.63661629, -1.43042238, -0.60033085, -0.716257  ]])"
      ]
     },
     "execution_count": 59,
     "metadata": {},
     "output_type": "execute_result"
    }
   ],
   "source": [
    "stock_change"
   ]
  },
  {
   "cell_type": "code",
   "execution_count": 60,
   "metadata": {},
   "outputs": [
    {
     "data": {
      "text/plain": [
       "array([-0.99662642, -0.90298088, -0.33469349])"
      ]
     },
     "execution_count": 60,
     "metadata": {},
     "output_type": "execute_result"
    }
   ],
   "source": [
    "stock_change[0, :3]"
   ]
  },
  {
   "cell_type": "code",
   "execution_count": 63,
   "metadata": {},
   "outputs": [],
   "source": [
    "a1 = np.array([[[1,2,3],[4,5,6]],[[12,3,34],[5,6,7]]])"
   ]
  },
  {
   "cell_type": "code",
   "execution_count": 65,
   "metadata": {},
   "outputs": [
    {
     "data": {
      "text/plain": [
       "(2, 2, 3)"
      ]
     },
     "execution_count": 65,
     "metadata": {},
     "output_type": "execute_result"
    }
   ],
   "source": [
    "a1.shape"
   ]
  },
  {
   "cell_type": "code",
   "execution_count": 66,
   "metadata": {},
   "outputs": [
    {
     "data": {
      "text/plain": [
       "array([[[ 1,  2,  3],\n",
       "        [ 4,  5,  6]],\n",
       "\n",
       "       [[12,  3, 34],\n",
       "        [ 5,  6,  7]]])"
      ]
     },
     "execution_count": 66,
     "metadata": {},
     "output_type": "execute_result"
    }
   ],
   "source": [
    "a1"
   ]
  },
  {
   "cell_type": "code",
   "execution_count": 67,
   "metadata": {},
   "outputs": [
    {
     "data": {
      "text/plain": [
       "34"
      ]
     },
     "execution_count": 67,
     "metadata": {},
     "output_type": "execute_result"
    }
   ],
   "source": [
    "a1[1,0,2]"
   ]
  },
  {
   "cell_type": "code",
   "execution_count": 68,
   "metadata": {},
   "outputs": [],
   "source": [
    "a1[1,0,2] = 1"
   ]
  },
  {
   "cell_type": "code",
   "execution_count": 69,
   "metadata": {},
   "outputs": [
    {
     "data": {
      "text/plain": [
       "array([[[ 1,  2,  3],\n",
       "        [ 4,  5,  6]],\n",
       "\n",
       "       [[12,  3,  1],\n",
       "        [ 5,  6,  7]]])"
      ]
     },
     "execution_count": 69,
     "metadata": {},
     "output_type": "execute_result"
    }
   ],
   "source": [
    "a1"
   ]
  },
  {
   "cell_type": "code",
   "execution_count": 70,
   "metadata": {},
   "outputs": [
    {
     "data": {
      "text/plain": [
       "array([[-0.99662642, -0.90298088, -0.33469349,  2.44934076,  0.97259645,\n",
       "        -1.08088908,  0.36373828, -1.08224112, -1.43482084,  0.69280491],\n",
       "       [ 1.59853806,  1.223105  , -0.90509705,  0.1305972 , -0.17261788,\n",
       "        -1.8130418 ,  0.53364354,  0.48799666,  0.15094677,  0.04289803],\n",
       "       [-0.24762801,  1.72875853,  1.10924163, -0.19961977, -1.43940309,\n",
       "        -0.74791199, -1.41166937,  0.43227829,  1.49759424, -0.60987456],\n",
       "       [-0.87735741, -1.21818144,  1.09935965,  0.33903634,  0.98688705,\n",
       "        -0.03504245, -1.85356507,  0.81015999, -0.25365561,  1.45794163],\n",
       "       [-0.69007281, -1.45204079, -2.04152213,  2.32717979, -0.40241851,\n",
       "        -1.45294411,  0.14178907,  0.01520643,  1.35750925,  0.30244322],\n",
       "       [ 0.3993745 ,  1.50597491, -0.07651456, -0.47072758,  0.93820808,\n",
       "         1.36142059,  0.1464892 , -0.19810263,  1.21517022,  0.36163124],\n",
       "       [-0.65920345, -0.6088784 , -1.08521335, -0.52832698,  2.08413576,\n",
       "         2.91289759, -1.55985541,  1.45202395,  0.75504992,  1.14531301],\n",
       "       [-0.08811869,  0.23779835,  1.42378825, -1.21198998,  1.73184952,\n",
       "        -0.40881955,  1.63661629, -1.43042238, -0.60033085, -0.716257  ]])"
      ]
     },
     "execution_count": 70,
     "metadata": {},
     "output_type": "execute_result"
    }
   ],
   "source": [
    "stock_change"
   ]
  },
  {
   "cell_type": "code",
   "execution_count": 71,
   "metadata": {},
   "outputs": [
    {
     "data": {
      "text/plain": [
       "(8, 10)"
      ]
     },
     "execution_count": 71,
     "metadata": {},
     "output_type": "execute_result"
    }
   ],
   "source": [
    "stock_change.shape"
   ]
  },
  {
   "cell_type": "code",
   "execution_count": 72,
   "metadata": {},
   "outputs": [
    {
     "data": {
      "text/plain": [
       "array([[-0.99662642,  1.59853806, -0.24762801, -0.87735741, -0.69007281,\n",
       "         0.3993745 , -0.65920345, -0.08811869],\n",
       "       [-0.90298088,  1.223105  ,  1.72875853, -1.21818144, -1.45204079,\n",
       "         1.50597491, -0.6088784 ,  0.23779835],\n",
       "       [-0.33469349, -0.90509705,  1.10924163,  1.09935965, -2.04152213,\n",
       "        -0.07651456, -1.08521335,  1.42378825],\n",
       "       [ 2.44934076,  0.1305972 , -0.19961977,  0.33903634,  2.32717979,\n",
       "        -0.47072758, -0.52832698, -1.21198998],\n",
       "       [ 0.97259645, -0.17261788, -1.43940309,  0.98688705, -0.40241851,\n",
       "         0.93820808,  2.08413576,  1.73184952],\n",
       "       [-1.08088908, -1.8130418 , -0.74791199, -0.03504245, -1.45294411,\n",
       "         1.36142059,  2.91289759, -0.40881955],\n",
       "       [ 0.36373828,  0.53364354, -1.41166937, -1.85356507,  0.14178907,\n",
       "         0.1464892 , -1.55985541,  1.63661629],\n",
       "       [-1.08224112,  0.48799666,  0.43227829,  0.81015999,  0.01520643,\n",
       "        -0.19810263,  1.45202395, -1.43042238],\n",
       "       [-1.43482084,  0.15094677,  1.49759424, -0.25365561,  1.35750925,\n",
       "         1.21517022,  0.75504992, -0.60033085],\n",
       "       [ 0.69280491,  0.04289803, -0.60987456,  1.45794163,  0.30244322,\n",
       "         0.36163124,  1.14531301, -0.716257  ]])"
      ]
     },
     "execution_count": 72,
     "metadata": {},
     "output_type": "execute_result"
    }
   ],
   "source": [
    "stock_change.T"
   ]
  },
  {
   "cell_type": "code",
   "execution_count": 73,
   "metadata": {},
   "outputs": [
    {
     "data": {
      "text/plain": [
       "(10, 8)"
      ]
     },
     "execution_count": 73,
     "metadata": {},
     "output_type": "execute_result"
    }
   ],
   "source": [
    "stock_change.T.shape"
   ]
  },
  {
   "cell_type": "code",
   "execution_count": 74,
   "metadata": {},
   "outputs": [],
   "source": [
    "new_stock = stock_change"
   ]
  },
  {
   "cell_type": "code",
   "execution_count": 75,
   "metadata": {},
   "outputs": [],
   "source": [
    "new_stock.resize((10,8))"
   ]
  },
  {
   "cell_type": "code",
   "execution_count": 76,
   "metadata": {},
   "outputs": [
    {
     "data": {
      "text/plain": [
       "array([[-0.99662642, -0.90298088, -0.33469349,  2.44934076,  0.97259645,\n",
       "        -1.08088908,  0.36373828, -1.08224112],\n",
       "       [-1.43482084,  0.69280491,  1.59853806,  1.223105  , -0.90509705,\n",
       "         0.1305972 , -0.17261788, -1.8130418 ],\n",
       "       [ 0.53364354,  0.48799666,  0.15094677,  0.04289803, -0.24762801,\n",
       "         1.72875853,  1.10924163, -0.19961977],\n",
       "       [-1.43940309, -0.74791199, -1.41166937,  0.43227829,  1.49759424,\n",
       "        -0.60987456, -0.87735741, -1.21818144],\n",
       "       [ 1.09935965,  0.33903634,  0.98688705, -0.03504245, -1.85356507,\n",
       "         0.81015999, -0.25365561,  1.45794163],\n",
       "       [-0.69007281, -1.45204079, -2.04152213,  2.32717979, -0.40241851,\n",
       "        -1.45294411,  0.14178907,  0.01520643],\n",
       "       [ 1.35750925,  0.30244322,  0.3993745 ,  1.50597491, -0.07651456,\n",
       "        -0.47072758,  0.93820808,  1.36142059],\n",
       "       [ 0.1464892 , -0.19810263,  1.21517022,  0.36163124, -0.65920345,\n",
       "        -0.6088784 , -1.08521335, -0.52832698],\n",
       "       [ 2.08413576,  2.91289759, -1.55985541,  1.45202395,  0.75504992,\n",
       "         1.14531301, -0.08811869,  0.23779835],\n",
       "       [ 1.42378825, -1.21198998,  1.73184952, -0.40881955,  1.63661629,\n",
       "        -1.43042238, -0.60033085, -0.716257  ]])"
      ]
     },
     "execution_count": 76,
     "metadata": {},
     "output_type": "execute_result"
    }
   ],
   "source": [
    "new_stock"
   ]
  },
  {
   "cell_type": "code",
   "execution_count": 78,
   "metadata": {},
   "outputs": [
    {
     "data": {
      "text/plain": [
       "array([[-0.99662642, -0.90298088, -0.33469349,  2.44934076,  0.97259645,\n",
       "        -1.08088908,  0.36373828, -1.08224112],\n",
       "       [-1.43482084,  0.69280491,  1.59853806,  1.223105  , -0.90509705,\n",
       "         0.1305972 , -0.17261788, -1.8130418 ],\n",
       "       [ 0.53364354,  0.48799666,  0.15094677,  0.04289803, -0.24762801,\n",
       "         1.72875853,  1.10924163, -0.19961977],\n",
       "       [-1.43940309, -0.74791199, -1.41166937,  0.43227829,  1.49759424,\n",
       "        -0.60987456, -0.87735741, -1.21818144],\n",
       "       [ 1.09935965,  0.33903634,  0.98688705, -0.03504245, -1.85356507,\n",
       "         0.81015999, -0.25365561,  1.45794163],\n",
       "       [-0.69007281, -1.45204079, -2.04152213,  2.32717979, -0.40241851,\n",
       "        -1.45294411,  0.14178907,  0.01520643],\n",
       "       [ 1.35750925,  0.30244322,  0.3993745 ,  1.50597491, -0.07651456,\n",
       "        -0.47072758,  0.93820808,  1.36142059],\n",
       "       [ 0.1464892 , -0.19810263,  1.21517022,  0.36163124, -0.65920345,\n",
       "        -0.6088784 , -1.08521335, -0.52832698],\n",
       "       [ 2.08413576,  2.91289759, -1.55985541,  1.45202395,  0.75504992,\n",
       "         1.14531301, -0.08811869,  0.23779835],\n",
       "       [ 1.42378825, -1.21198998,  1.73184952, -0.40881955,  1.63661629,\n",
       "        -1.43042238, -0.60033085, -0.716257  ]])"
      ]
     },
     "execution_count": 78,
     "metadata": {},
     "output_type": "execute_result"
    }
   ],
   "source": [
    "stock_change.reshape((10,8))"
   ]
  },
  {
   "cell_type": "markdown",
   "metadata": {},
   "source": [
    "### 类型修改"
   ]
  },
  {
   "cell_type": "code",
   "execution_count": 79,
   "metadata": {},
   "outputs": [
    {
     "data": {
      "text/plain": [
       "dtype('float64')"
      ]
     },
     "execution_count": 79,
     "metadata": {},
     "output_type": "execute_result"
    }
   ],
   "source": [
    "stock_change.dtype"
   ]
  },
  {
   "cell_type": "code",
   "execution_count": 80,
   "metadata": {},
   "outputs": [
    {
     "data": {
      "text/plain": [
       "array([[ 0,  0,  0,  2,  0, -1,  0, -1],\n",
       "       [-1,  0,  1,  1,  0,  0,  0, -1],\n",
       "       [ 0,  0,  0,  0,  0,  1,  1,  0],\n",
       "       [-1,  0, -1,  0,  1,  0,  0, -1],\n",
       "       [ 1,  0,  0,  0, -1,  0,  0,  1],\n",
       "       [ 0, -1, -2,  2,  0, -1,  0,  0],\n",
       "       [ 1,  0,  0,  1,  0,  0,  0,  1],\n",
       "       [ 0,  0,  1,  0,  0,  0, -1,  0],\n",
       "       [ 2,  2, -1,  1,  0,  1,  0,  0],\n",
       "       [ 1, -1,  1,  0,  1, -1,  0,  0]], dtype=int32)"
      ]
     },
     "execution_count": 80,
     "metadata": {},
     "output_type": "execute_result"
    }
   ],
   "source": [
    "stock_change.astype(np.int32)"
   ]
  },
  {
   "cell_type": "code",
   "execution_count": 81,
   "metadata": {},
   "outputs": [],
   "source": [
    "temp = np.array([[1, 2, 3, 4],[3, 4, 5, 6]])"
   ]
  },
  {
   "cell_type": "code",
   "execution_count": 84,
   "metadata": {},
   "outputs": [],
   "source": [
    "# set(temp)"
   ]
  },
  {
   "cell_type": "code",
   "execution_count": 85,
   "metadata": {},
   "outputs": [
    {
     "data": {
      "text/plain": [
       "array([1, 2, 3, 4, 5, 6])"
      ]
     },
     "execution_count": 85,
     "metadata": {},
     "output_type": "execute_result"
    }
   ],
   "source": [
    "np.unique(temp)"
   ]
  },
  {
   "cell_type": "code",
   "execution_count": 90,
   "metadata": {},
   "outputs": [
    {
     "data": {
      "text/plain": [
       "[1, 2, 3, 4, 5, 6]"
      ]
     },
     "execution_count": 90,
     "metadata": {},
     "output_type": "execute_result"
    }
   ],
   "source": [
    "list(set(temp.flatten()))"
   ]
  },
  {
   "cell_type": "code",
   "execution_count": 91,
   "metadata": {},
   "outputs": [],
   "source": [
    "new_stock_2 = np.random.normal(0,1,(8,10))"
   ]
  },
  {
   "cell_type": "code",
   "execution_count": 92,
   "metadata": {},
   "outputs": [
    {
     "data": {
      "text/plain": [
       "array([[-4.34902430e-01,  1.02247690e-01,  1.30474875e+00,\n",
       "        -1.19181740e+00, -6.01235491e-01, -1.02720545e+00,\n",
       "        -6.43283670e-01,  2.63735900e-01,  4.25974508e-01,\n",
       "         7.14876409e-01],\n",
       "       [ 5.60056044e-01, -1.38607751e+00, -1.37299257e-01,\n",
       "         3.03519691e-01, -1.25133297e-01,  1.34883889e+00,\n",
       "        -2.23270801e-01, -7.75712895e-01,  8.02093505e-01,\n",
       "        -5.68044656e-01],\n",
       "       [ 8.39343105e-01, -6.87998354e-01,  5.43202906e-01,\n",
       "         2.87311355e-01,  2.53808873e-01,  1.54981827e+00,\n",
       "        -7.10353376e-01,  1.07271302e-01,  1.18746124e+00,\n",
       "         7.67430776e-01],\n",
       "       [-6.49107101e-02, -2.35361098e-02, -4.96840435e-01,\n",
       "        -1.32629511e-01,  1.13874817e+00,  1.65290120e+00,\n",
       "        -1.43842371e-01,  6.18711570e-01, -3.38323011e-01,\n",
       "         1.08877933e+00],\n",
       "       [-2.77608512e-01, -1.47470544e-02,  1.52907603e-01,\n",
       "         5.34914931e-01,  1.19297653e+00, -2.30429693e-01,\n",
       "         5.73050716e-01, -5.02623757e-01, -1.05721493e+00,\n",
       "         3.32442851e-01],\n",
       "       [-9.47706861e-01,  9.61669410e-01, -2.26513976e-02,\n",
       "         1.14118936e-01, -3.42817585e-02, -6.63997854e-01,\n",
       "        -9.95170227e-01,  5.64863570e-01,  5.29635789e-01,\n",
       "        -1.40742597e-01],\n",
       "       [-6.34440141e-01,  3.81373033e-01, -9.90204686e-01,\n",
       "        -1.02940710e+00, -1.66423254e+00, -4.80916358e-01,\n",
       "         4.54255817e-04,  2.85038822e-01, -5.51504963e-01,\n",
       "        -1.53601217e+00],\n",
       "       [ 8.76414276e-01, -8.08174040e-02, -1.91229360e-02,\n",
       "         1.76333759e+00, -1.47860356e+00,  8.43097175e-01,\n",
       "         6.19107849e-01,  6.60902677e-01, -1.40342151e-01,\n",
       "         2.68573055e-01]])"
      ]
     },
     "execution_count": 92,
     "metadata": {},
     "output_type": "execute_result"
    }
   ],
   "source": [
    "new_stock_2"
   ]
  },
  {
   "cell_type": "code",
   "execution_count": 93,
   "metadata": {},
   "outputs": [
    {
     "data": {
      "text/plain": [
       "array([[False, False,  True, False, False, False, False, False, False,\n",
       "         True],\n",
       "       [ True, False, False, False, False,  True, False, False,  True,\n",
       "        False],\n",
       "       [ True, False,  True, False, False,  True, False, False,  True,\n",
       "         True],\n",
       "       [False, False, False, False,  True,  True, False,  True, False,\n",
       "         True],\n",
       "       [False, False, False,  True,  True, False,  True, False, False,\n",
       "        False],\n",
       "       [False,  True, False, False, False, False, False,  True,  True,\n",
       "        False],\n",
       "       [False, False, False, False, False, False, False, False, False,\n",
       "        False],\n",
       "       [ True, False, False,  True, False,  True,  True,  True, False,\n",
       "        False]])"
      ]
     },
     "execution_count": 93,
     "metadata": {},
     "output_type": "execute_result"
    }
   ],
   "source": [
    "new_stock_2 > 0.5"
   ]
  },
  {
   "cell_type": "markdown",
   "metadata": {},
   "source": [
    "## 布尔索引"
   ]
  },
  {
   "cell_type": "code",
   "execution_count": 97,
   "metadata": {},
   "outputs": [],
   "source": [
    "new_stock_2[new_stock_2 > 0.5] = 1"
   ]
  },
  {
   "cell_type": "code",
   "execution_count": 98,
   "metadata": {},
   "outputs": [
    {
     "data": {
      "text/plain": [
       "array([[-4.34902430e-01,  1.02247690e-01,  1.00000000e+00,\n",
       "        -1.19181740e+00, -6.01235491e-01, -1.02720545e+00,\n",
       "        -6.43283670e-01,  2.63735900e-01,  4.25974508e-01,\n",
       "         1.00000000e+00],\n",
       "       [ 1.00000000e+00, -1.38607751e+00, -1.37299257e-01,\n",
       "         3.03519691e-01, -1.25133297e-01,  1.00000000e+00,\n",
       "        -2.23270801e-01, -7.75712895e-01,  1.00000000e+00,\n",
       "        -5.68044656e-01],\n",
       "       [ 1.00000000e+00, -6.87998354e-01,  1.00000000e+00,\n",
       "         2.87311355e-01,  2.53808873e-01,  1.00000000e+00,\n",
       "        -7.10353376e-01,  1.07271302e-01,  1.00000000e+00,\n",
       "         1.00000000e+00],\n",
       "       [-6.49107101e-02, -2.35361098e-02, -4.96840435e-01,\n",
       "        -1.32629511e-01,  1.00000000e+00,  1.00000000e+00,\n",
       "        -1.43842371e-01,  1.00000000e+00, -3.38323011e-01,\n",
       "         1.00000000e+00],\n",
       "       [-2.77608512e-01, -1.47470544e-02,  1.52907603e-01,\n",
       "         1.00000000e+00,  1.00000000e+00, -2.30429693e-01,\n",
       "         1.00000000e+00, -5.02623757e-01, -1.05721493e+00,\n",
       "         3.32442851e-01],\n",
       "       [-9.47706861e-01,  1.00000000e+00, -2.26513976e-02,\n",
       "         1.14118936e-01, -3.42817585e-02, -6.63997854e-01,\n",
       "        -9.95170227e-01,  1.00000000e+00,  1.00000000e+00,\n",
       "        -1.40742597e-01],\n",
       "       [-6.34440141e-01,  3.81373033e-01, -9.90204686e-01,\n",
       "        -1.02940710e+00, -1.66423254e+00, -4.80916358e-01,\n",
       "         4.54255817e-04,  2.85038822e-01, -5.51504963e-01,\n",
       "        -1.53601217e+00],\n",
       "       [ 1.00000000e+00, -8.08174040e-02, -1.91229360e-02,\n",
       "         1.00000000e+00, -1.47860356e+00,  1.00000000e+00,\n",
       "         1.00000000e+00,  1.00000000e+00, -1.40342151e-01,\n",
       "         2.68573055e-01]])"
      ]
     },
     "execution_count": 98,
     "metadata": {},
     "output_type": "execute_result"
    }
   ],
   "source": [
    "new_stock_2"
   ]
  },
  {
   "cell_type": "code",
   "execution_count": 103,
   "metadata": {},
   "outputs": [
    {
     "data": {
      "text/plain": [
       "array([[-0.99662642, -0.90298088, -0.33469349,  2.44934076,  0.97259645,\n",
       "        -1.08088908,  0.36373828, -1.08224112],\n",
       "       [-1.43482084,  0.69280491,  1.59853806,  1.223105  , -0.90509705,\n",
       "         0.1305972 , -0.17261788, -1.8130418 ],\n",
       "       [ 0.53364354,  0.48799666,  0.15094677,  0.04289803, -0.24762801,\n",
       "         1.72875853,  1.10924163, -0.19961977],\n",
       "       [-1.43940309, -0.74791199, -1.41166937,  0.43227829,  1.49759424,\n",
       "        -0.60987456, -0.87735741, -1.21818144],\n",
       "       [ 1.09935965,  0.33903634,  0.98688705, -0.03504245, -1.85356507,\n",
       "         0.81015999, -0.25365561,  1.45794163],\n",
       "       [-0.69007281, -1.45204079, -2.04152213,  2.32717979, -0.40241851,\n",
       "        -1.45294411,  0.14178907,  0.01520643],\n",
       "       [ 1.35750925,  0.30244322,  0.3993745 ,  1.50597491, -0.07651456,\n",
       "        -0.47072758,  0.93820808,  1.36142059],\n",
       "       [ 0.1464892 , -0.19810263,  1.21517022,  0.36163124, -0.65920345,\n",
       "        -0.6088784 , -1.08521335, -0.52832698],\n",
       "       [ 2.08413576,  2.91289759, -1.55985541,  1.45202395,  0.75504992,\n",
       "         1.14531301, -0.08811869,  0.23779835],\n",
       "       [ 1.42378825, -1.21198998,  1.73184952, -0.40881955,  1.63661629,\n",
       "        -1.43042238, -0.60033085, -0.716257  ]])"
      ]
     },
     "execution_count": 103,
     "metadata": {},
     "output_type": "execute_result"
    }
   ],
   "source": [
    "stock_change"
   ]
  },
  {
   "cell_type": "code",
   "execution_count": 104,
   "metadata": {},
   "outputs": [
    {
     "data": {
      "text/plain": [
       "False"
      ]
     },
     "execution_count": 104,
     "metadata": {},
     "output_type": "execute_result"
    }
   ],
   "source": [
    "np.all(stock_change[0:2, 0:5] > 0)"
   ]
  },
  {
   "cell_type": "code",
   "execution_count": 105,
   "metadata": {},
   "outputs": [
    {
     "data": {
      "text/plain": [
       "array([[-0.90298088, -0.33469349,  2.44934076],\n",
       "       [ 0.69280491,  1.59853806,  1.223105  ],\n",
       "       [ 0.48799666,  0.15094677,  0.04289803],\n",
       "       [-0.74791199, -1.41166937,  0.43227829],\n",
       "       [ 0.33903634,  0.98688705, -0.03504245]])"
      ]
     },
     "execution_count": 105,
     "metadata": {},
     "output_type": "execute_result"
    }
   ],
   "source": [
    "stock_change[:5, 1:4]"
   ]
  },
  {
   "cell_type": "code",
   "execution_count": 106,
   "metadata": {},
   "outputs": [
    {
     "data": {
      "text/plain": [
       "True"
      ]
     },
     "execution_count": 106,
     "metadata": {},
     "output_type": "execute_result"
    }
   ],
   "source": [
    "np.any(stock_change[0:5, 1:4] > 0)"
   ]
  },
  {
   "cell_type": "code",
   "execution_count": 109,
   "metadata": {},
   "outputs": [
    {
     "data": {
      "text/plain": [
       "array([[-0.99662642, -0.90298088, -0.33469349,  2.44934076],\n",
       "       [-1.43482084,  0.69280491,  1.59853806,  1.223105  ],\n",
       "       [ 0.53364354,  0.48799666,  0.15094677,  0.04289803],\n",
       "       [-1.43940309, -0.74791199, -1.41166937,  0.43227829]])"
      ]
     },
     "execution_count": 109,
     "metadata": {},
     "output_type": "execute_result"
    }
   ],
   "source": [
    "temp = stock_change[:4, :4]\n",
    "temp"
   ]
  },
  {
   "cell_type": "code",
   "execution_count": 108,
   "metadata": {},
   "outputs": [
    {
     "data": {
      "text/plain": [
       "array([[0, 0, 0, 1],\n",
       "       [0, 1, 1, 1],\n",
       "       [1, 1, 1, 1],\n",
       "       [0, 0, 0, 1]])"
      ]
     },
     "execution_count": 108,
     "metadata": {},
     "output_type": "execute_result"
    }
   ],
   "source": [
    "np.where(stock_change[:4, :4] > 0, 1, 0)"
   ]
  },
  {
   "cell_type": "code",
   "execution_count": 111,
   "metadata": {},
   "outputs": [
    {
     "data": {
      "text/plain": [
       "array([[0, 0, 0, 0],\n",
       "       [0, 1, 0, 0],\n",
       "       [1, 0, 0, 0],\n",
       "       [0, 0, 0, 0]])"
      ]
     },
     "execution_count": 111,
     "metadata": {},
     "output_type": "execute_result"
    }
   ],
   "source": [
    "np.where(np.logical_and(temp > 0.5, temp < 1), 1, 0)"
   ]
  },
  {
   "cell_type": "code",
   "execution_count": 113,
   "metadata": {},
   "outputs": [
    {
     "data": {
      "text/plain": [
       "array([[1, 1, 0, 1],\n",
       "       [1, 1, 1, 1],\n",
       "       [1, 0, 0, 0],\n",
       "       [1, 1, 1, 0]])"
      ]
     },
     "execution_count": 113,
     "metadata": {},
     "output_type": "execute_result"
    }
   ],
   "source": [
    "np.where(np.logical_or(temp > 0.5, temp < -0.5), 1, 0)"
   ]
  },
  {
   "cell_type": "code",
   "execution_count": 114,
   "metadata": {},
   "outputs": [
    {
     "data": {
      "text/plain": [
       "array([[-0.99662642, -0.90298088, -0.33469349,  2.44934076],\n",
       "       [-1.43482084,  0.69280491,  1.59853806,  1.223105  ],\n",
       "       [ 0.53364354,  0.48799666,  0.15094677,  0.04289803],\n",
       "       [-1.43940309, -0.74791199, -1.41166937,  0.43227829]])"
      ]
     },
     "execution_count": 114,
     "metadata": {},
     "output_type": "execute_result"
    }
   ],
   "source": [
    "temp"
   ]
  },
  {
   "cell_type": "code",
   "execution_count": 115,
   "metadata": {},
   "outputs": [
    {
     "data": {
      "text/plain": [
       "2.449340755883109"
      ]
     },
     "execution_count": 115,
     "metadata": {},
     "output_type": "execute_result"
    }
   ],
   "source": [
    "np.max(temp)"
   ]
  },
  {
   "cell_type": "code",
   "execution_count": 116,
   "metadata": {},
   "outputs": [
    {
     "data": {
      "text/plain": [
       "array([0.53364354, 0.69280491, 1.59853806, 2.44934076])"
      ]
     },
     "execution_count": 116,
     "metadata": {},
     "output_type": "execute_result"
    }
   ],
   "source": [
    "np.max(temp, axis=0)"
   ]
  },
  {
   "cell_type": "code",
   "execution_count": 117,
   "metadata": {},
   "outputs": [
    {
     "data": {
      "text/plain": [
       "array([-0.99662642, -1.43482084,  0.04289803, -1.43940309])"
      ]
     },
     "execution_count": 117,
     "metadata": {},
     "output_type": "execute_result"
    }
   ],
   "source": [
    "np.min(temp, axis=1)"
   ]
  },
  {
   "cell_type": "code",
   "execution_count": 118,
   "metadata": {},
   "outputs": [
    {
     "data": {
      "text/plain": [
       "array([1.97709201, 1.37719676, 0.0445476 , 0.57598039])"
      ]
     },
     "execution_count": 118,
     "metadata": {},
     "output_type": "execute_result"
    }
   ],
   "source": [
    "np.var(temp, axis=1)"
   ]
  },
  {
   "cell_type": "code",
   "execution_count": 120,
   "metadata": {},
   "outputs": [
    {
     "data": {
      "text/plain": [
       "array([1.40609104, 1.17354027, 0.21106302, 0.75893372])"
      ]
     },
     "execution_count": 120,
     "metadata": {},
     "output_type": "execute_result"
    }
   ],
   "source": [
    "np.std(temp, axis=1)"
   ]
  },
  {
   "cell_type": "code",
   "execution_count": 121,
   "metadata": {},
   "outputs": [
    {
     "data": {
      "text/plain": [
       "array([[-0.99662642, -0.90298088, -0.33469349,  2.44934076],\n",
       "       [-1.43482084,  0.69280491,  1.59853806,  1.223105  ],\n",
       "       [ 0.53364354,  0.48799666,  0.15094677,  0.04289803],\n",
       "       [-1.43940309, -0.74791199, -1.41166937,  0.43227829]])"
      ]
     },
     "execution_count": 121,
     "metadata": {},
     "output_type": "execute_result"
    }
   ],
   "source": [
    "temp"
   ]
  },
  {
   "cell_type": "code",
   "execution_count": 123,
   "metadata": {},
   "outputs": [
    {
     "data": {
      "text/plain": [
       "array([3, 2, 0, 3])"
      ]
     },
     "execution_count": 123,
     "metadata": {},
     "output_type": "execute_result"
    }
   ],
   "source": [
    "np.argmax(temp, axis=1)"
   ]
  },
  {
   "cell_type": "code",
   "execution_count": 124,
   "metadata": {},
   "outputs": [],
   "source": [
    "a = np.array([[80,86],\n",
    "[82, 80],\n",
    "[85, 78],\n",
    "[90, 90],\n",
    "[86, 82],\n",
    "[82, 90],\n",
    "[78, 80],\n",
    "[92, 94]])"
   ]
  },
  {
   "cell_type": "code",
   "execution_count": 128,
   "metadata": {},
   "outputs": [],
   "source": [
    "b = np.array([[0.3],\n",
    "             [0.7]])"
   ]
  },
  {
   "cell_type": "code",
   "execution_count": 132,
   "metadata": {},
   "outputs": [],
   "source": [
    "mat_a = np.mat(a)"
   ]
  },
  {
   "cell_type": "code",
   "execution_count": 136,
   "metadata": {},
   "outputs": [],
   "source": [
    "mat_b = np.mat(b)"
   ]
  },
  {
   "cell_type": "code",
   "execution_count": 139,
   "metadata": {},
   "outputs": [
    {
     "data": {
      "text/plain": [
       "matrix([[80, 86],\n",
       "        [82, 80],\n",
       "        [85, 78],\n",
       "        [90, 90],\n",
       "        [86, 82],\n",
       "        [82, 90],\n",
       "        [78, 80],\n",
       "        [92, 94]])"
      ]
     },
     "execution_count": 139,
     "metadata": {},
     "output_type": "execute_result"
    }
   ],
   "source": [
    "mat_a"
   ]
  },
  {
   "cell_type": "code",
   "execution_count": 140,
   "metadata": {},
   "outputs": [
    {
     "data": {
      "text/plain": [
       "matrix([[0.3],\n",
       "        [0.7]])"
      ]
     },
     "execution_count": 140,
     "metadata": {},
     "output_type": "execute_result"
    }
   ],
   "source": [
    "mat_b"
   ]
  },
  {
   "cell_type": "code",
   "execution_count": 137,
   "metadata": {},
   "outputs": [
    {
     "data": {
      "text/plain": [
       "array([[84.2],\n",
       "       [80.6],\n",
       "       [80.1],\n",
       "       [90. ],\n",
       "       [83.2],\n",
       "       [87.6],\n",
       "       [79.4],\n",
       "       [93.4]])"
      ]
     },
     "execution_count": 137,
     "metadata": {},
     "output_type": "execute_result"
    }
   ],
   "source": [
    "np.dot(a,b)"
   ]
  },
  {
   "cell_type": "code",
   "execution_count": 138,
   "metadata": {},
   "outputs": [
    {
     "data": {
      "text/plain": [
       "array([[84.2],\n",
       "       [80.6],\n",
       "       [80.1],\n",
       "       [90. ],\n",
       "       [83.2],\n",
       "       [87.6],\n",
       "       [79.4],\n",
       "       [93.4]])"
      ]
     },
     "execution_count": 138,
     "metadata": {},
     "output_type": "execute_result"
    }
   ],
   "source": [
    "np.matmul(a,b)"
   ]
  },
  {
   "cell_type": "code",
   "execution_count": 141,
   "metadata": {},
   "outputs": [],
   "source": [
    "c = np.array([[5, 6]])"
   ]
  },
  {
   "cell_type": "code",
   "execution_count": 142,
   "metadata": {},
   "outputs": [],
   "source": [
    "mat_c = np.mat(c)"
   ]
  },
  {
   "cell_type": "code",
   "execution_count": 147,
   "metadata": {},
   "outputs": [
    {
     "data": {
      "text/plain": [
       "(1, 2)"
      ]
     },
     "execution_count": 147,
     "metadata": {},
     "output_type": "execute_result"
    }
   ],
   "source": [
    "c.shape"
   ]
  },
  {
   "cell_type": "code",
   "execution_count": 148,
   "metadata": {},
   "outputs": [],
   "source": [
    "a = np.array([[1, 2], [3, 4]])"
   ]
  },
  {
   "cell_type": "code",
   "execution_count": 149,
   "metadata": {},
   "outputs": [],
   "source": [
    "b = np.array([[5, 6]])"
   ]
  },
  {
   "cell_type": "code",
   "execution_count": 152,
   "metadata": {},
   "outputs": [],
   "source": [
    "ab = np.concatenate((a, b.T), axis=1)"
   ]
  },
  {
   "cell_type": "code",
   "execution_count": 153,
   "metadata": {},
   "outputs": [
    {
     "data": {
      "text/plain": [
       "array([[1, 2, 5],\n",
       "       [3, 4, 6]])"
      ]
     },
     "execution_count": 153,
     "metadata": {},
     "output_type": "execute_result"
    }
   ],
   "source": [
    "ab"
   ]
  },
  {
   "cell_type": "code",
   "execution_count": 156,
   "metadata": {},
   "outputs": [
    {
     "data": {
      "text/plain": [
       "[array([[1, 2, 5]]), array([[3, 4, 6]])]"
      ]
     },
     "execution_count": 156,
     "metadata": {},
     "output_type": "execute_result"
    }
   ],
   "source": [
    "np.split(ab,2)"
   ]
  },
  {
   "cell_type": "code",
   "execution_count": null,
   "metadata": {},
   "outputs": [],
   "source": []
  }
 ],
 "metadata": {
  "kernelspec": {
   "display_name": "Python 3",
   "language": "python",
   "name": "python3"
  },
  "language_info": {
   "codemirror_mode": {
    "name": "ipython",
    "version": 3
   },
   "file_extension": ".py",
   "mimetype": "text/x-python",
   "name": "python",
   "nbconvert_exporter": "python",
   "pygments_lexer": "ipython3",
   "version": "3.5.2"
  }
 },
 "nbformat": 4,
 "nbformat_minor": 2
}
